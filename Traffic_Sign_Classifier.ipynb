{
 "cells": [
  {
   "cell_type": "markdown",
   "metadata": {},
   "source": [
    "# Self-Driving Car Engineer Nanodegree\n",
    "\n",
    "## Deep Learning\n",
    "\n",
    "## Project: Build a Traffic Sign Recognition Classifier\n",
    "\n",
    "In this notebook, a template is provided for you to implement your functionality in stages, which is required to successfully complete this project. If additional code is required that cannot be included in the notebook, be sure that the Python code is successfully imported and included in your submission if necessary. \n",
    "\n",
    "> **Note**: Once you have completed all of the code implementations, you need to finalize your work by exporting the iPython Notebook as an HTML document. Before exporting the notebook to html, all of the code cells need to have been run so that reviewers can see the final implementation and output. You can then export the notebook by using the menu above and navigating to  \\n\",\n",
    "    \"**File -> Download as -> HTML (.html)**. Include the finished document along with this notebook as your submission. \n",
    "\n",
    "In addition to implementing code, there is a writeup to complete. The writeup should be completed in a separate file, which can be either a markdown file or a pdf document. There is a [write up template](https://github.com/udacity/CarND-Traffic-Sign-Classifier-Project/blob/master/writeup_template.md) that can be used to guide the writing process. Completing the code template and writeup template will cover all of the [rubric points](https://review.udacity.com/#!/rubrics/481/view) for this project.\n",
    "\n",
    "The [rubric](https://review.udacity.com/#!/rubrics/481/view) contains \"Stand Out Suggestions\" for enhancing the project beyond the minimum requirements. The stand out suggestions are optional. If you decide to pursue the \"stand out suggestions\", you can include the code in this Ipython notebook and also discuss the results in the writeup file.\n",
    "\n",
    "\n",
    ">**Note:** Code and Markdown cells can be executed using the **Shift + Enter** keyboard shortcut. In addition, Markdown cells can be edited by typically double-clicking the cell to enter edit mode."
   ]
  },
  {
   "cell_type": "markdown",
   "metadata": {},
   "source": [
    "---\n",
    "## Step 0: Load The Data"
   ]
  },
  {
   "cell_type": "code",
   "execution_count": 1,
   "metadata": {},
   "outputs": [
    {
     "name": "stderr",
     "output_type": "stream",
     "text": [
      "/home/carnd/anaconda3/envs/carnd-term1/lib/python3.5/site-packages/sklearn/cross_validation.py:44: DeprecationWarning: This module was deprecated in version 0.18 in favor of the model_selection module into which all the refactored classes and functions are moved. Also note that the interface of the new CV iterators are different from that of this module. This module will be removed in 0.20.\n",
      "  \"This module will be removed in 0.20.\", DeprecationWarning)\n"
     ]
    }
   ],
   "source": [
    "import zipfile\n",
    "import cv2 # computer vision library\n",
    "import numpy as np\n",
    "from sklearn.cross_validation import train_test_split\n",
    "import os\n",
    "from urllib.request import urlretrieve\n",
    "import matplotlib.gridspec as gridspec\n",
    "import pandas as pd"
   ]
  },
  {
   "cell_type": "code",
   "execution_count": 2,
   "metadata": {
    "collapsed": true
   },
   "outputs": [],
   "source": [
    "def download(url, file):\n",
    "    \"\"\"\n",
    "    Download file from <url>\n",
    "    :param url: URL to file\n",
    "    :param file: Local file path\n",
    "    \"\"\"\n",
    "    if not os.path.isfile(file):\n",
    "        print('Downloading ' + file + '...')\n",
    "        urlretrieve(url, file)\n",
    "        print('Download Finished')"
   ]
  },
  {
   "cell_type": "code",
   "execution_count": 3,
   "metadata": {},
   "outputs": [
    {
     "name": "stdout",
     "output_type": "stream",
     "text": [
      "Downloading traffic-signs-data.zip...\n",
      "Download Finished\n"
     ]
    }
   ],
   "source": [
    "if os.path.exists(\"./traffic-signs-data.zip\"):\n",
    "    pass\n",
    "    print(\"pass, file has been existed\")\n",
    "else:\n",
    "    download('https://s3-us-west-1.amazonaws.com/udacity-selfdrivingcar/traffic-signs-data.zip','traffic-signs-data.zip')"
   ]
  },
  {
   "cell_type": "code",
   "execution_count": 6,
   "metadata": {},
   "outputs": [
    {
     "name": "stdout",
     "output_type": "stream",
     "text": [
      "pass, file has been unzip\n"
     ]
    }
   ],
   "source": [
    "import zipfile\n",
    "def un_zip(file_name):\n",
    "    \"\"\"unzip zip file\"\"\"\n",
    "    zip_file = zipfile.ZipFile(file_name)\n",
    "    file_name_front = os.path.splitext(file_name)\n",
    "    print(\"Unziping ...\")\n",
    "    if os.path.isdir(file_name_front[0] + \"_files\"):\n",
    "        pass\n",
    "    else:\n",
    "        os.mkdir(file_name_front[0] + \"_files\")\n",
    "    for names in zip_file.namelist():\n",
    "        zip_file.extract(names,file_name_front[0] + \"_files/\")\n",
    "    print(\"Unzip finish\")\n",
    "    zip_file.close()\n",
    "\n",
    "if os.path.exists(\"./traffic-signs-data_files/\"):\n",
    "    pass\n",
    "    print(\"pass, file has been unzip\")\n",
    "else:\n",
    "    un_zip('traffic-signs-data.zip')"
   ]
  },
  {
   "cell_type": "code",
   "execution_count": 7,
   "metadata": {},
   "outputs": [],
   "source": [
    "# Load pickled data\n",
    "import pickle\n",
    "\n",
    "# TODO: Fill this in based on where you saved the training and testing data\n",
    "\n",
    "training_file = 'traffic-signs-data_files/train.p'\n",
    "validation_file= 'traffic-signs-data_files/valid.p'\n",
    "testing_file = 'traffic-signs-data_files/test.p'\n",
    "\n",
    "with open(training_file, mode='rb') as f:\n",
    "    train = pickle.load(f)\n",
    "with open(validation_file, mode='rb') as f:\n",
    "    valid = pickle.load(f)\n",
    "with open(testing_file, mode='rb') as f:\n",
    "    test = pickle.load(f)\n",
    "    \n",
    "X_train, y_train = train['features'], train['labels']\n",
    "X_valid, y_valid = valid['features'], valid['labels']\n",
    "X_test, y_test = test['features'], test['labels']"
   ]
  },
  {
   "cell_type": "code",
   "execution_count": 8,
   "metadata": {},
   "outputs": [
    {
     "name": "stdout",
     "output_type": "stream",
     "text": [
      "(34799, 32, 32, 3) (34799,)\n",
      "(4410, 32, 32, 3) (4410,)\n",
      "(12630, 32, 32, 3) (12630,)\n"
     ]
    }
   ],
   "source": [
    "print(X_train.shape, y_train.shape)\n",
    "print(X_valid.shape, y_valid.shape)\n",
    "print(X_test.shape, y_test.shape)"
   ]
  },
  {
   "cell_type": "markdown",
   "metadata": {},
   "source": [
    "---\n",
    "\n",
    "## Step 1: Dataset Summary & Exploration\n",
    "\n",
    "The pickled data is a dictionary with 4 key/value pairs:\n",
    "\n",
    "- `'features'` is a 4D array containing raw pixel data of the traffic sign images, (num examples, width, height, channels).\n",
    "- `'labels'` is a 1D array containing the label/class id of the traffic sign. The file `signnames.csv` contains id -> name mappings for each id.\n",
    "- `'sizes'` is a list containing tuples, (width, height) representing the original width and height the image.\n",
    "- `'coords'` is a list containing tuples, (x1, y1, x2, y2) representing coordinates of a bounding box around the sign in the image. **THESE COORDINATES ASSUME THE ORIGINAL IMAGE. THE PICKLED DATA CONTAINS RESIZED VERSIONS (32 by 32) OF THESE IMAGES**\n",
    "\n",
    "Complete the basic data summary below. Use python, numpy and/or pandas methods to calculate the data summary rather than hard coding the results. For example, the [pandas shape method](http://pandas.pydata.org/pandas-docs/stable/generated/pandas.DataFrame.shape.html) might be useful for calculating some of the summary results. "
   ]
  },
  {
   "cell_type": "markdown",
   "metadata": {},
   "source": [
    "### Provide a Basic Summary of the Data Set Using Python, Numpy and/or Pandas"
   ]
  },
  {
   "cell_type": "code",
   "execution_count": 9,
   "metadata": {},
   "outputs": [
    {
     "name": "stdout",
     "output_type": "stream",
     "text": [
      "Number of training examples = 34799\n",
      "Number of testing examples = 12630\n",
      "Image data shape = (32, 32, 3)\n",
      "Number of classes = 42\n"
     ]
    }
   ],
   "source": [
    "### Replace each question mark with the appropriate value. \n",
    "### Use python, pandas or numpy methods rather than hard coding the results\n",
    "\n",
    "# TODO: Number of training examples\n",
    "n_train = X_train.shape[0]\n",
    "\n",
    "# TODO: Number of validation examples\n",
    "n_validation = X_valid.shape[0]\n",
    "\n",
    "# TODO: Number of testing examples.\n",
    "n_test = X_test.shape[0]\n",
    "\n",
    "# TODO: What's the shape of an traffic sign image?\n",
    "image_shape = X_train[0].shape\n",
    "\n",
    "# TODO: How many unique classes/labels there are in the dataset.\n",
    "n_classes = max(y_train)\n",
    "\n",
    "print(\"Number of training examples =\", n_train)\n",
    "print(\"Number of testing examples =\", n_test)\n",
    "print(\"Image data shape =\", image_shape)\n",
    "print(\"Number of classes =\", n_classes)"
   ]
  },
  {
   "cell_type": "markdown",
   "metadata": {},
   "source": [
    "### Include an exploratory visualization of the dataset"
   ]
  },
  {
   "cell_type": "markdown",
   "metadata": {},
   "source": [
    "Visualize the German Traffic Signs Dataset using the pickled file(s). This is open ended, suggestions include: plotting traffic sign images, plotting the count of each sign, etc. \n",
    "\n",
    "The [Matplotlib](http://matplotlib.org/) [examples](http://matplotlib.org/examples/index.html) and [gallery](http://matplotlib.org/gallery.html) pages are a great resource for doing visualizations in Python.\n",
    "\n",
    "**NOTE:** It's recommended you start with something simple first. If you wish to do more, come back to it after you've completed the rest of the sections. It can be interesting to look at the distribution of classes in the training, validation and test set. Is the distribution the same? Are there more examples of some classes than others?"
   ]
  },
  {
   "cell_type": "code",
   "execution_count": 6,
   "metadata": {},
   "outputs": [
    {
     "name": "stdout",
     "output_type": "stream",
     "text": [
      "41\n"
     ]
    },
    {
     "data": {
      "image/png": "[encoded data removed]",
      "text/plain": [
       "<matplotlib.figure.Figure at 0x7fcd8996ae10>"
      ]
     },
     "metadata": {},
     "output_type": "display_data"
    }
   ],
   "source": [
    "### Data exploration visualization code goes here.\n",
    "### Feel free to use as many code cells as needed.\n",
    "import matplotlib.pyplot as plt\n",
    "# Visualizations will be shown in the notebook.\n",
    "%matplotlib inline\n",
    "\n",
    "image_num = 33\n",
    "image = X_train[image_num]\n",
    "\n",
    "plt.imshow(image)\n",
    "\n",
    "print(y_train[image_num])\n",
    "\n",
    "# print(X_train[image_num])"
   ]
  },
  {
   "cell_type": "code",
   "execution_count": 7,
   "metadata": {
    "collapsed": true
   },
   "outputs": [],
   "source": [
    "\n",
    "\n",
    "X_train_augment = []\n",
    "\n",
    "def augment_brightness_camera_images(image):\n",
    "    image1 = cv2.cvtColor(image, cv2.COLOR_RGB2HSV)\n",
    "    image1 = np.array(image1, dtype=np.float64)\n",
    "    random_bright = .5 + np.random.uniform()\n",
    "    image1[:,:,2] = image1[:,:,2]*random_bright\n",
    "    image1[:,:,2][image1[:,:,2]>255] = 255\n",
    "    image1 = np.array(image1, dtype=np.uint8)\n",
    "    image1 = cv2.cvtColor(image1, cv2.COLOR_HSV2RGB)\n",
    "    return image1\n",
    "\n",
    "# def transform_image(image, ang_range, trans_range):\n",
    "#     ang_rot = np.random.uniform(ang_range) - ang_range/2\n",
    "#     rows,cols,ch = image.shape\n",
    "#     Rot_M = cv2.getRotationMatrix2D((cols/2, rows/2), ang_rot, 1)\n",
    "    \n",
    "#     tr_x = trans_range*np.random.uniform() - trans_range/2\n",
    "#     tr_y = trans_range*np.random.uniform() - trans_range/2\n",
    "#     Trans_M = np.float32([[1,0,tr_x], [0,1,tr_y]])\n",
    "    \n",
    "#     image = cv2.warpAffine(image, Rot_M, (cols,rows))\n",
    "#     image = cv2.warpAffine(image, Trans_M, (cols,rows))\n",
    "    \n",
    "#     augment_brightness_camera_images(image)\n",
    "    \n",
    "#     return image\n",
    "\n",
    "# for x_train_num in range(len(X_train)):\n",
    "#     X_train_augment.append(transform_image(X_train[x_train_num], 20, 4))\n",
    "\n",
    "# X_train = np.array(X_train_augment)\n"
   ]
  },
  {
   "cell_type": "code",
   "execution_count": 8,
   "metadata": {},
   "outputs": [
    {
     "name": "stdout",
     "output_type": "stream",
     "text": [
      "[28 25 24]\n"
     ]
    }
   ],
   "source": [
    "# print(X_train_canny[0][0][4])\n",
    "print(X_train[0][0][0])"
   ]
  },
  {
   "cell_type": "code",
   "execution_count": null,
   "metadata": {
    "collapsed": true
   },
   "outputs": [],
   "source": []
  },
  {
   "cell_type": "markdown",
   "metadata": {},
   "source": [
    "----\n",
    "\n",
    "## Step 2: Design and Test a Model Architecture\n",
    "\n",
    "Design and implement a deep learning model that learns to recognize traffic signs. Train and test your model on the [German Traffic Sign Dataset](http://benchmark.ini.rub.de/?section=gtsrb&subsection=dataset).\n",
    "\n",
    "The LeNet-5 implementation shown in the [classroom](https://classroom.udacity.com/nanodegrees/nd013/parts/fbf77062-5703-404e-b60c-95b78b2f3f9e/modules/6df7ae49-c61c-4bb2-a23e-6527e69209ec/lessons/601ae704-1035-4287-8b11-e2c2716217ad/concepts/d4aca031-508f-4e0b-b493-e7b706120f81) at the end of the CNN lesson is a solid starting point. You'll have to change the number of classes and possibly the preprocessing, but aside from that it's plug and play! \n",
    "\n",
    "With the LeNet-5 solution from the lecture, you should expect a validation set accuracy of about 0.89. To meet specifications, the validation set accuracy will need to be at least 0.93. It is possible to get an even higher accuracy, but 0.93 is the minimum for a successful project submission. \n",
    "\n",
    "There are various aspects to consider when thinking about this problem:\n",
    "\n",
    "- Neural network architecture (is the network over or underfitting?)\n",
    "- Play around preprocessing techniques (normalization, rgb to grayscale, etc)\n",
    "- Number of examples per label (some have more than others).\n",
    "- Generate fake data.\n",
    "\n",
    "Here is an example of a [published baseline model on this problem](http://yann.lecun.com/exdb/publis/pdf/sermanet-ijcnn-11.pdf). It's not required to be familiar with the approach used in the paper but, it's good practice to try to read papers like these."
   ]
  },
  {
   "cell_type": "markdown",
   "metadata": {},
   "source": [
    "### Pre-process the Data Set (normalization, grayscale, etc.)"
   ]
  },
  {
   "cell_type": "markdown",
   "metadata": {},
   "source": [
    "Minimally, the image data should be normalized so that the data has mean zero and equal variance. For image data, `(pixel - 128)/ 128` is a quick way to approximately normalize the data and can be used in this project. \n",
    "\n",
    "Other pre-processing steps are optional. You can try different techniques to see if it improves performance. \n",
    "\n",
    "Use the code cell (or multiple code cells, if necessary) to implement the first step of your project."
   ]
  },
  {
   "cell_type": "code",
   "execution_count": 9,
   "metadata": {
    "collapsed": true
   },
   "outputs": [],
   "source": [
    "def pre_process_image(image):\n",
    "\n",
    "    #image = cv2.cvtColor(image, cv2.COLOR_BGR2YUV)\n",
    "    #image = image[:,:,0]\n",
    "    image[:,:,0] = cv2.equalizeHist(image[:,:,0])\n",
    "    image[:,:,1] = cv2.equalizeHist(image[:,:,1])\n",
    "    image[:,:,2] = cv2.equalizeHist(image[:,:,2])\n",
    "    image = image/255.-.5\n",
    "    #image = cv2.resize(image, (img_resize,img_resize),interpolation = cv2.INTER_CUBIC)\n",
    "    \n",
    "    return image"
   ]
  },
  {
   "cell_type": "code",
   "execution_count": 10,
   "metadata": {
    "collapsed": true
   },
   "outputs": [],
   "source": [
    "def transform_image(image, ang_range, shear_range, trans_range):\n",
    "    rows, cols, ch = image.shape\n",
    "    #Rotation\n",
    "    ang_rot = np.random.uniform(ang_range) - ang_range/2\n",
    "    Rot_M = cv2.getRotationMatrix2D((cols/2, rows/2), ang_range, 1)\n",
    "    \n",
    "    #Translations\n",
    "    tr_x = trans_range * np.random.uniform() - trans_range/2\n",
    "    tr_y = trans_range * np.random.uniform() - trans_range/2\n",
    "    Trans_M = np.float32([[1, 0, tr_x], [0, 1, tr_y]])\n",
    "    \n",
    "    #shear\n",
    "    pts1 = np.float32([[5, 5], [20, 5], [5, 20]])\n",
    "    \n",
    "    pt1 = 5 + shear_range * np.random.uniform() - shear_range/2\n",
    "    pt2 = 20 + shear_range * np.random.uniform() - shear_range/2\n",
    "    \n",
    "    pts2 = np.float32([[pt1, 5], [pt2, pt1], [5, pt2]])\n",
    "    \n",
    "    Shear_M = cv2.getAffineTransform(pts1, pts2)\n",
    "    \n",
    "    image = cv2.warpAffine(image, Rot_M, (cols, rows))\n",
    "    image = cv2.warpAffine(image, Trans_M, (cols, rows))\n",
    "    image = cv2.warpAffine(image, Shear_M, (cols, rows))\n",
    "    \n",
    "    image = augment_brightness_camera_images(image)\n",
    "    \n",
    "    image = np.array(image)\n",
    "    \n",
    "    image = pre_process_image(image)\n",
    "    \n",
    "    return image\n",
    "\n",
    "def get_extra_data(X_train, y_train, n_each, ang_range, shear_range, trans_range, randomize_Var):\n",
    "    X_arr = []\n",
    "    Y_arr = []\n",
    "    for i in range(len(X_train)):\n",
    "        for i_n in range(n_each):\n",
    "            img_trf = transform_image(X_train[i], ang_range, shear_range, trans_range)\n",
    "            X_arr.append(img_trf)\n",
    "            Y_arr.append(y_train[i])\n",
    "            \n",
    "    X_arr = np.array(X_arr, dtype = np.float32())\n",
    "    Y_arr = np.array(Y_arr, dtype = np.float32())\n",
    "    \n",
    "    if (randomize_Var == 1 ):\n",
    "        len_arr = np.arange(len(X_arr))\n",
    "        np.random.shuffle(len_arr)\n",
    "        X_arr[len_arr] = X_arr\n",
    "        Y_arr[len_arr] = Y_arr\n",
    "    \n",
    "    return X_arr, Y_arr"
   ]
  },
  {
   "cell_type": "code",
   "execution_count": 11,
   "metadata": {
    "collapsed": true
   },
   "outputs": [],
   "source": [
    "### Preprocess the data here. It is required to normalize the data. Other preprocessing steps could include \n",
    "### converting to grayscale, etc.\n",
    "### Feel free to use as many code cells as needed.\n",
    "\n",
    "ang_rot = 10\n",
    "trans_rot = 2\n",
    "shear_rot = 2\n",
    "\n",
    "X_train, y_train = get_extra_data(X_train, y_train, 5, ang_rot, trans_rot, shear_rot, 1)\n"
   ]
  },
  {
   "cell_type": "code",
   "execution_count": 12,
   "metadata": {
    "collapsed": true
   },
   "outputs": [],
   "source": [
    "X_valid = np.array([pre_process_image(X_valid[i]) for i in range(len(X_valid))], dtype = np.float32)"
   ]
  },
  {
   "cell_type": "code",
   "execution_count": 13,
   "metadata": {
    "collapsed": true
   },
   "outputs": [],
   "source": [
    "X_test = np.array([pre_process_image(X_test[i]) for i in range(len(X_test))], dtype = np.float32)"
   ]
  },
  {
   "cell_type": "code",
   "execution_count": 14,
   "metadata": {},
   "outputs": [
    {
     "name": "stdout",
     "output_type": "stream",
     "text": [
      "(12630, 32, 32, 3)\n"
     ]
    }
   ],
   "source": [
    "from sklearn.utils import shuffle\n",
    "\n",
    "X_train, y_train = shuffle(X_train, y_train)\n",
    "print(X_test.shape)"
   ]
  },
  {
   "cell_type": "markdown",
   "metadata": {},
   "source": [
    "### Model Architecture"
   ]
  },
  {
   "cell_type": "code",
   "execution_count": 15,
   "metadata": {
    "collapsed": true
   },
   "outputs": [],
   "source": [
    "### Define your architecture here.\n",
    "### Feel free to use as many code cells as needed.\n",
    "\n",
    "import tensorflow as tf\n",
    "\n",
    "EPOCHS = 15\n",
    "BATCH_SIZE = 128"
   ]
  },
  {
   "cell_type": "code",
   "execution_count": 16,
   "metadata": {
    "collapsed": true
   },
   "outputs": [],
   "source": [
    "from tensorflow.contrib.layers import flatten\n",
    "\n",
    "def LeNet(x):\n",
    "    #Arguments used for tf.truncated_normal, randomly defines variables for the weights and biases for each layer\n",
    "    mu = 0\n",
    "    sigma = 0.1\n",
    "    #layer1:Convolutional. Input = 32*32*3. Output = 28*28*32\n",
    "    conv1_W = tf.Variable(tf.truncated_normal(shape=(5,5,3,32), mean = mu, stddev = sigma))\n",
    "    conv1_b = tf.Variable(tf.zeros(32))\n",
    "    conv1 = tf.nn.conv2d(x, conv1_W, strides = [1,1,1,1], padding='VALID') + conv1_b\n",
    "    #Activation\n",
    "    conv1 = tf.nn.relu(conv1)\n",
    "    #Pooling.Input = 28*28*32. Output = 14*14*32\n",
    "    conv1 = tf.nn.max_pool(conv1, ksize=[1,2,2,1], strides=[1,2,2,1], padding = 'VALID')\n",
    "    #dropout\n",
    "    conv1 = tf.nn.dropout(conv1, keep_prob)\n",
    "    \n",
    "    #layer2:Convolutional.Input = 14*14*32. Output = 10*10*64\n",
    "    conv2_W = tf.Variable(tf.truncated_normal(shape=(5,5,32,64),mean = mu, stddev = sigma))\n",
    "    conv2_b = tf.Variable(tf.zeros(64))\n",
    "    conv2 = tf.nn.conv2d(conv1, conv2_W, strides=[1,1,1,1], padding = 'VALID') + conv2_b\n",
    "    #Activation.\n",
    "    conv2 = tf.nn.relu(conv2)\n",
    "    #Pooling.Input = 10*10*64. Output = 5*5*64\n",
    "    conv2 = tf.nn.max_pool(conv2, ksize=[1,2,2,1], strides=[1,2,2,1], padding='VALID')\n",
    "    #dropout\n",
    "    conv2 = tf.nn.dropout(conv2, keep_prob)\n",
    "    \n",
    "    #Flatten. for Fully Connected input\n",
    "    fc0 = flatten(conv2)\n",
    "    \n",
    "    #layer3:Fully Connected.Input = 1600.Output = 120\n",
    "    fc1_W = tf.Variable(tf.truncated_normal(shape=(1600,800),mean = mu, stddev = sigma))\n",
    "    fc1_b = tf.Variable(tf.zeros(800))\n",
    "    fc1 = tf.matmul(fc0, fc1_W) + fc1_b\n",
    "    #Activation\n",
    "    fc1 = tf.nn.relu(fc1)\n",
    "    #dropout\n",
    "    fc1 = tf.nn.dropout(fc1, keep_prob)\n",
    "                        \n",
    "    #layer4:Fully Connected.Input = 120.Output = 43\n",
    "    fc2_W = tf.Variable(tf.truncated_normal(shape=(800,400),mean = mu, stddev = sigma))\n",
    "    fc2_b = tf.Variable(tf.zeros(400))\n",
    "    fc2 = tf.matmul(fc1, fc2_W) + fc2_b\n",
    "    #Activation\n",
    "    fc2 = tf.nn.relu(fc2)\n",
    "    #dropout\n",
    "    fc2 = tf.nn.dropout(fc2, keep_prob)\n",
    "    \n",
    "    #layer5:Fully Connected.Input = 84. Output = 43\n",
    "    fc3_W = tf.Variable(tf.truncated_normal(shape=(400,43),mean = mu, stddev = sigma))\n",
    "    fc3_b = tf.Variable(tf.zeros(43))\n",
    "    logits = tf.matmul(fc2, fc3_W) + fc3_b\n",
    "    \n",
    "#     logits1 = tf.nn.softmax(logits)\n",
    "#     labels_pred_cls = tf.argmax(logits, dimension=1)\n",
    "    \n",
    "    regularizers = (tf.nn.l2_loss(conv1_W)\n",
    "                + tf.nn.l2_loss(conv2_W)  + tf.nn.l2_loss(fc1_W) \n",
    "                + tf.nn.l2_loss(fc2_W) + tf.nn.l2_loss(fc3_W))\n",
    "                        \n",
    "    return logits,regularizers"
   ]
  },
  {
   "cell_type": "code",
   "execution_count": 17,
   "metadata": {
    "collapsed": true
   },
   "outputs": [],
   "source": [
    "# from tensorflow.contrib.layers import flatten\n",
    "\n",
    "# def flatten_layer(layer):\n",
    "#     # Get the shape of the input layer.\n",
    "#     layer_shape = layer.get_shape()\n",
    "#     num_features = layer_shape[1:4].num_elements()\n",
    "#     layer_flat = tf.reshape(layer, [-1, num_features])\n",
    "#     return layer_flat, num_features\n",
    "\n",
    "# def LeNet(x):\n",
    "#     #Arguments used for tf.truncated_normal, randomly defines variables for the weights and biases for each layer\n",
    "#     mu = 0\n",
    "#     sigma = 0.1\n",
    "#     #layer1:Convolutional. Input = 32*32*3. Output = 32*32*3\n",
    "#     conv1_W = tf.Variable(tf.truncated_normal(shape=(1,1,3,3), mean = mu, stddev = sigma))\n",
    "#     conv1_b = tf.Variable(tf.zeros(3))\n",
    "#     conv1 = tf.nn.conv2d(x, conv1_W, strides = [1,1,1,1], padding='SAME') + conv1_b\n",
    "#     #Activation\n",
    "#     conv1 = tf.nn.relu(conv1)\n",
    "    \n",
    "#     #layer2:Convolutional.Input = 32*32*3. Output = 28*28*32\n",
    "#     conv2_W = tf.Variable(tf.truncated_normal(shape=(5,5,3,32),mean = mu, stddev = sigma))\n",
    "#     conv2_b = tf.Variable(tf.zeros(32))\n",
    "#     conv2 = tf.nn.conv2d(conv1, conv2_W, strides=[1,1,1,1], padding = 'SAME') + conv2_b\n",
    "#     #Activation.\n",
    "#     conv2 = tf.nn.relu(conv2)\n",
    "    \n",
    "#     #layer3:Convolutional.Input = 28*28*32. Output = 28*28*32\n",
    "#     conv3_W = tf.Variable(tf.truncated_normal(shape=(5,5,32,32),mean = mu, stddev = sigma))\n",
    "#     conv3_b = tf.Variable(tf.zeros(32))\n",
    "#     conv3 = tf.nn.conv2d(conv2, conv3_W, strides=[1,1,1,1], padding = 'SAME') + conv3_b\n",
    "#     #Activation.\n",
    "#     conv3 = tf.nn.relu(conv3)\n",
    "#     #Pooling.Input = 28*28*32. Output = 14*14*32\n",
    "#     conv3 = tf.nn.max_pool(conv3, ksize=[1,2,2,1], strides=[1,2,2,1], padding='SAME')\n",
    "    \n",
    "#     #dropout\n",
    "#     conv3 = tf.nn.dropout(conv3, keep_prob)\n",
    "    \n",
    "#     #layer4:Convolutional.Input = 14*14*32. Output = 10*10*64\n",
    "#     conv4_W = tf.Variable(tf.truncated_normal(shape=(5,5,32,64),mean = mu, stddev = sigma))\n",
    "#     conv4_b = tf.Variable(tf.zeros(64))\n",
    "#     conv4 = tf.nn.conv2d(conv3, conv4_W, strides=[1,1,1,1], padding = 'SAME') + conv4_b\n",
    "#     #Activation.\n",
    "#     conv4 = tf.nn.relu(conv4)\n",
    "    \n",
    "#     #layer5:Convolutional.Input = 10*10*64. Output = 10*10*64\n",
    "#     conv5_W = tf.Variable(tf.truncated_normal(shape=(5,5,64,64),mean = mu, stddev = sigma))\n",
    "#     conv5_b = tf.Variable(tf.zeros(64))\n",
    "#     conv5 = tf.nn.conv2d(conv4, conv5_W, strides=[1,1,1,1], padding = 'SAME') + conv5_b\n",
    "#     #Activation.\n",
    "#     conv5 = tf.nn.relu(conv5)\n",
    "#     #Pooling.Input = 10*10*64. Output = 5*5*64\n",
    "#     conv5 = tf.nn.max_pool(conv5, ksize=[1,2,2,1], strides=[1,2,2,1], padding='SAME')\n",
    "    \n",
    "#     #dropout\n",
    "#     conv5 = tf.nn.dropout(conv5, keep_prob)\n",
    "    \n",
    "#     #layer6:Convolutional.Input = 5*5*64. Output = 1*1*128\n",
    "#     conv6_W = tf.Variable(tf.truncated_normal(shape=(5,5,64,128),mean = mu, stddev = sigma))\n",
    "#     conv6_b = tf.Variable(tf.zeros(128))\n",
    "#     conv6 = tf.nn.conv2d(conv5, conv6_W, strides=[1,1,1,1], padding = 'SAME') + conv6_b\n",
    "#     #Activation.\n",
    "#     conv6 = tf.nn.relu(conv6)\n",
    "    \n",
    "#     #layer7:Convolutional.Input = 1*1*128. Output = 1*1*128\n",
    "#     conv7_W = tf.Variable(tf.truncated_normal(shape=(5,5,128,128),mean = mu, stddev = sigma))\n",
    "#     conv7_b = tf.Variable(tf.zeros(128))\n",
    "#     conv7 = tf.nn.conv2d(conv6, conv7_W, strides=[1,1,1,1], padding = 'SAME') + conv7_b\n",
    "#     #Activation.\n",
    "#     conv7 = tf.nn.relu(conv7)\n",
    "#     #Pooling.Input = 1*1*128. Output = ???\n",
    "#     conv7 = tf.nn.max_pool(conv7, ksize=[1,2,2,1], strides=[1,2,2,1], padding='SAME')\n",
    "    \n",
    "#     #dropout\n",
    "#     conv7 = tf.nn.dropout(conv7, keep_prob)\n",
    "    \n",
    "#     #Flatten. for Fully Connected input\n",
    "#     layer_flat3, num_fc_layers3 = flatten_layer(conv3)\n",
    "#     layer_flat5, num_fc_layers5 = flatten_layer(conv5)\n",
    "#     layer_flat7, num_fc_layers7 = flatten_layer(conv7)\n",
    "    \n",
    "#     layer_flat = tf.concat(1, [layer_flat3, layer_flat5, layer_flat7])\n",
    "#     num_fc_layers = num_fc_layers3 + num_fc_layers5 + num_fc_layers7\n",
    "    \n",
    "#     #layer8:Fully Connected.Input = num_fc_layers.Output = 1024\n",
    "#     fc1_W = tf.Variable(tf.truncated_normal(shape=(num_fc_layers,1024),mean = mu, stddev = sigma))\n",
    "#     fc1_b = tf.Variable(tf.zeros(1024))\n",
    "#     fc1 = tf.matmul(layer_flat, fc1_W) + fc1_b\n",
    "#     #Activation\n",
    "#     fc1 = tf.nn.relu(fc1)\n",
    "#     #dropout\n",
    "#     fc1 = tf.nn.dropout(fc1, keep_prob)\n",
    "                        \n",
    "#     #layer9:Fully Connected.Input = 1024.Output = 1024\n",
    "#     fc2_W = tf.Variable(tf.truncated_normal(shape=(1024,1024),mean = mu, stddev = sigma))\n",
    "#     fc2_b = tf.Variable(tf.zeros(1024))\n",
    "#     fc2 = tf.matmul(fc1, fc2_W) + fc2_b\n",
    "#     #Activation\n",
    "#     fc2 = tf.nn.relu(fc2)\n",
    "#     #dropout\n",
    "#     fc2 = tf.nn.dropout(fc2, keep_prob)\n",
    "    \n",
    "#     #layer10:Fully Connected.Input = 1024. Output = 43\n",
    "#     fc3_W = tf.Variable(tf.truncated_normal(shape=(1024,43),mean = mu, stddev = sigma))\n",
    "#     fc3_b = tf.Variable(tf.zeros(43))\n",
    "#     logits = tf.matmul(fc2, fc3_W) + fc3_b\n",
    "    \n",
    "#     regularizers = (tf.nn.l2_loss(conv1_W)\n",
    "#                 + tf.nn.l2_loss(conv2_W) + tf.nn.l2_loss(conv3_W) \n",
    "#                 + tf.nn.l2_loss(conv4_W) + tf.nn.l2_loss(conv5_W) \n",
    "#                 + tf.nn.l2_loss(conv6_W) + tf.nn.l2_loss(conv7_W) \n",
    "#                 + tf.nn.l2_loss(fc1_W)  + tf.nn.l2_loss(fc2_W) +\n",
    "#                 tf.nn.l2_loss(fc3_W))\n",
    "                        \n",
    "#     return logits,regularizers"
   ]
  },
  {
   "cell_type": "code",
   "execution_count": 18,
   "metadata": {
    "collapsed": true
   },
   "outputs": [],
   "source": [
    "#define the input\n",
    "x = tf.placeholder(tf.float32, (None, 32, 32, 3))\n",
    "y = tf.placeholder(tf.int32, (None))\n",
    "keep_prob = tf.placeholder(tf.float32)\n",
    "\n",
    "one_hot_y = tf.one_hot(y, 43)"
   ]
  },
  {
   "cell_type": "code",
   "execution_count": 19,
   "metadata": {
    "collapsed": true
   },
   "outputs": [],
   "source": [
    "#create a training pipeline\n",
    "rate = 0.001\n",
    "logits,regularizers = LeNet(x)\n",
    "cross_entropy = tf.nn.softmax_cross_entropy_with_logits(labels = one_hot_y, logits = logits)\n",
    "loss_operation = tf.reduce_mean(cross_entropy)+1e-5*regularizers\n",
    "optimizer = tf.train.AdamOptimizer(learning_rate = rate)\n",
    "train_operation = optimizer.minimize(loss_operation)"
   ]
  },
  {
   "cell_type": "code",
   "execution_count": 20,
   "metadata": {
    "collapsed": true
   },
   "outputs": [],
   "source": [
    "#Evaluate how well the loss and accuracy of the model for a given dataset\n",
    "correct_perdiction = tf.equal(tf.argmax(logits, 1), tf.argmax(one_hot_y, 1))\n",
    "accuracy_operation = tf.reduce_mean(tf.cast(correct_perdiction, tf.float32))\n",
    "saver = tf.train.Saver()\n",
    "saver1 = tf.train.Saver()\n",
    "\n",
    "def evaluate(X_data, y_data):\n",
    "    num_examples = len(X_data)\n",
    "    total_accuracy = 0\n",
    "    sess = tf.get_default_session()\n",
    "    for offset in range(0, num_examples, BATCH_SIZE):\n",
    "        batch_x, batch_y = X_data[offset:offset+BATCH_SIZE], y_data[offset:offset+BATCH_SIZE]\n",
    "        accuracy = sess.run(accuracy_operation, feed_dict = {x:batch_x, y:batch_y, keep_prob:1})\n",
    "        total_accuracy += (accuracy*len(batch_x))\n",
    "    return total_accuracy/num_examples"
   ]
  },
  {
   "cell_type": "markdown",
   "metadata": {},
   "source": [
    "### Train, Validate and Test the Model"
   ]
  },
  {
   "cell_type": "markdown",
   "metadata": {},
   "source": [
    "A validation set can be used to assess how well the model is performing. A low accuracy on the training and validation\n",
    "sets imply underfitting. A high accuracy on the training set but low accuracy on the validation set implies overfitting."
   ]
  },
  {
   "cell_type": "code",
   "execution_count": 21,
   "metadata": {
    "collapsed": true
   },
   "outputs": [],
   "source": [
    "total_iterations = 0\n",
    "best_validation_accuracy = 0\n",
    "require_improvement = 5000\n",
    "last_improvement = 0\n",
    "batch_acc_list = []\n",
    "val_acc_list = []\n",
    "feed_dict_valid = {x: X_valid, y: y_valid, keep_prob: 1.0}\n",
    "X_test_1, X_test_2, y_test_1 , y_test_2 = \\\n",
    "                                train_test_split(X_test,\n",
    "                                                 y_test,\n",
    "                                                 test_size=0.5,\n",
    "                                                 random_state=5)\n",
    "feed_dict_test = {x: X_test, y: y_test, keep_prob: 1.0}\n",
    "feed_dict_test_1 = {x: X_test_1, y: y_test_1, keep_prob: 1.0}"
   ]
  },
  {
   "cell_type": "code",
   "execution_count": 22,
   "metadata": {
    "collapsed": true
   },
   "outputs": [],
   "source": [
    "def random_batch(X_train, y_train, setsize):\n",
    "    num_images = len(X_train)\n",
    "    \n",
    "    idx = np.random.choice(num_images, size = setsize, replace = False)\n",
    "    \n",
    "    features_batch = X_train[idx, :, :, :]\n",
    "    labels_batch = y_train[idx]\n",
    "    \n",
    "    return features_batch, labels_batch\n",
    "\n",
    "def optimize(num_iterations):\n",
    "    \n",
    "    global total_iterations\n",
    "    global best_validation_accuracy\n",
    "    global require_improvement\n",
    "    global last_improvement\n",
    "    \n",
    "    print(\"training...\")\n",
    "    print()\n",
    "    \n",
    "    for i in range(num_iterations):\n",
    "        total_iterations += 1\n",
    "        \n",
    "        features_batch, labels_true_batch = random_batch(X_train, y_train, 512)\n",
    "        \n",
    "        feed_dict_batch = {x: features_batch, y: labels_true_batch, keep_prob: 0.5}\n",
    "        \n",
    "        sess.run(train_operation, feed_dict = feed_dict_batch)\n",
    "        \n",
    "        if ((total_iterations % 200 == 0) or (i == (num_iterations - 1))):\n",
    "            acc_batch = sess.run(accuracy_operation, feed_dict = feed_dict_batch)\n",
    "            acc_valid = sess.run(accuracy_operation, feed_dict = feed_dict_valid)\n",
    "            batch_acc_list.append(acc_batch)\n",
    "            val_acc_list.append(acc_valid)\n",
    "            if acc_valid > best_validation_accuracy :\n",
    "                best_validation_accuracy = acc_valid\n",
    "                last_improvement = total_iterations\n",
    "                #save model here\n",
    "                saver1.save(sess=sess, save_path='./model_best_batch')\n",
    "            \n",
    "            if total_iterations - last_improvement > require_improvement:\n",
    "                print(\"No improvement found in a While, stopping optimization. \")\n",
    "                break\n",
    "            \n",
    "            if ((total_iterations % 1000 == 0) or (i == (num_iterations - 1))):\n",
    "                acc_test = sess.run(accuracy_operation, feed_dict = feed_dict_test)\n",
    "                \n",
    "                if acc_test > best_validation_accuracy:\n",
    "                    best_validation_accuracy = acc_test\n",
    "                    #save model here\n",
    "                    saver1.save(sess=sess, save_path='./model_best_batch')\n",
    "                \n",
    "                #print acc here\n",
    "                msg = \"# {0:>6}, Train Acc.: {1:>6.1%}, Val Acc.: {2:>6.1%}, Test Acc.: {3:>6.1%} \"\n",
    "                print(msg.format(i+1, acc_batch, acc_valid, acc_test))\n",
    "        "
   ]
  },
  {
   "cell_type": "code",
   "execution_count": 23,
   "metadata": {},
   "outputs": [
    {
     "name": "stdout",
     "output_type": "stream",
     "text": [
      "training...\n",
      "\n",
      "#   1000, Train Acc.:  76.0%, Val Acc.:  73.7%, Test Acc.:  70.7% \n",
      "#   2000, Train Acc.:  89.5%, Val Acc.:  82.0%, Test Acc.:  78.1% \n",
      "#   3000, Train Acc.:  94.9%, Val Acc.:  85.5%, Test Acc.:  82.2% \n",
      "#   4000, Train Acc.:  93.9%, Val Acc.:  88.3%, Test Acc.:  84.6% \n",
      "#   5000, Train Acc.:  96.9%, Val Acc.:  89.2%, Test Acc.:  86.2% \n",
      "#   6000, Train Acc.:  97.1%, Val Acc.:  91.6%, Test Acc.:  89.0% \n",
      "#   7000, Train Acc.:  97.3%, Val Acc.:  92.7%, Test Acc.:  90.0% \n",
      "#   8000, Train Acc.:  98.0%, Val Acc.:  92.8%, Test Acc.:  90.4% \n",
      "#   9000, Train Acc.:  98.4%, Val Acc.:  93.0%, Test Acc.:  89.4% \n",
      "#  10000, Train Acc.:  97.7%, Val Acc.:  93.4%, Test Acc.:  90.2% \n",
      "#  11000, Train Acc.:  98.0%, Val Acc.:  93.6%, Test Acc.:  90.3% \n",
      "#  12000, Train Acc.:  98.0%, Val Acc.:  94.3%, Test Acc.:  89.4% \n",
      "#  13000, Train Acc.:  99.0%, Val Acc.:  94.8%, Test Acc.:  92.6% \n",
      "#  14000, Train Acc.:  98.4%, Val Acc.:  95.1%, Test Acc.:  92.4% \n",
      "#  15000, Train Acc.:  98.2%, Val Acc.:  95.3%, Test Acc.:  92.9% \n",
      "#  16000, Train Acc.:  98.4%, Val Acc.:  94.8%, Test Acc.:  92.9% \n",
      "#  17000, Train Acc.:  98.6%, Val Acc.:  94.4%, Test Acc.:  91.6% \n",
      "#  18000, Train Acc.:  99.2%, Val Acc.:  94.5%, Test Acc.:  92.6% \n",
      "#  19000, Train Acc.:  98.4%, Val Acc.:  96.1%, Test Acc.:  93.4% \n",
      "#  20000, Train Acc.:  99.4%, Val Acc.:  95.6%, Test Acc.:  93.7% \n"
     ]
    }
   ],
   "source": [
    "with tf.Session() as sess:\n",
    "    sess.run(tf.global_variables_initializer())\n",
    "    \n",
    "    optimize(15000)\n",
    "    "
   ]
  },
  {
   "cell_type": "code",
   "execution_count": 29,
   "metadata": {},
   "outputs": [
    {
     "name": "stdout",
     "output_type": "stream",
     "text": [
      " Test acc.:  93.4% \n"
     ]
    }
   ],
   "source": [
    "with tf.Session() as sess:\n",
    "    saver1.restore(sess=sess, save_path='./model_best_batch')\n",
    "    \n",
    "    acc_test = sess.run(accuracy_operation, feed_dict = feed_dict_test)\n",
    "    msg = \" Test acc.: {0:>6.1%} \"\n",
    "    print(msg.format(acc_test))\n",
    "    "
   ]
  },
  {
   "cell_type": "code",
   "execution_count": null,
   "metadata": {
    "collapsed": true
   },
   "outputs": [],
   "source": [
    "### Train your model here.\n",
    "### Calculate and report the accuracy on the training and validation set.\n",
    "### Once a final model architecture is selected, \n",
    "### the accuracy on the test set should be calculated and reported as well.\n",
    "### Feel free to use as many code cells as needed.\n",
    "\n",
    "with tf.Session() as sess:\n",
    "    sess.run(tf.global_variables_initializer())\n",
    "    num_examples = len(X_train)\n",
    "    \n",
    "    print(\"training...\")\n",
    "    print()\n",
    "    \n",
    "    for i in range(EPOCHS):\n",
    "        X_train, y_train = shuffle(X_train, y_train)\n",
    "        for offset in range(0, num_examples, BATCH_SIZE):\n",
    "            end = offset + BATCH_SIZE\n",
    "            batch_x, batch_y = X_train[offset:end], y_train[offset:end]\n",
    "            sess.run(train_operation, feed_dict={x:batch_x, y:batch_y, keep_prob:0.5})\n",
    "            \n",
    "        validation_accuracy = evaluate(X_valid, y_valid)\n",
    "        test_accuracy = evaluate(X_test, y_test)\n",
    "        print(\"EPOCH {} ... \".format(i+1))\n",
    "        print(\"Validation Accuracy = {:.3f}\".format(validation_accuracy))\n",
    "        print(\"test Accuracy = {:.3f}\".format(test_accuracy))\n",
    "        print()\n",
    "        \n",
    "    saver.save(sess,'./lenet')\n",
    "    print(\"Model saved\")"
   ]
  },
  {
   "cell_type": "markdown",
   "metadata": {},
   "source": [
    "---\n",
    "\n",
    "## Step 3: Test a Model on New Images\n",
    "\n",
    "To give yourself more insight into how your model is working, download at least five pictures of German traffic signs from the web and use your model to predict the traffic sign type.\n",
    "\n",
    "You may find `signnames.csv` useful as it contains mappings from the class id (integer) to the actual sign name."
   ]
  },
  {
   "cell_type": "markdown",
   "metadata": {},
   "source": [
    "### Load and Output the Images"
   ]
  },
  {
   "cell_type": "code",
   "execution_count": 30,
   "metadata": {
    "collapsed": true
   },
   "outputs": [],
   "source": [
    "def process_newimage_file(name):\n",
    "    image = cv2.imread(name)\n",
    "    image = cv2.resize(image,(32,32))\n",
    "    image = cv2.cvtColor(image, cv2.COLOR_BGR2RGB)\n",
    "    image = image/255.-.5\n",
    "    return image"
   ]
  },
  {
   "cell_type": "code",
   "execution_count": 31,
   "metadata": {
    "collapsed": true
   },
   "outputs": [],
   "source": [
    "### Load the images and plot them here.\n",
    "### Feel free to use as many code cells as needed.\n",
    "newdata = [process_newimage_file(\"./Test_download_images/\"+name) for name in os.listdir(\"./Test_download_images/\")]\n",
    "newdata = np.array(newdata, dtype = np.float32)"
   ]
  },
  {
   "cell_type": "code",
   "execution_count": 32,
   "metadata": {},
   "outputs": [
    {
     "data": {
      "image/png": "[encoded data removed]",
      "text/plain": [
       "<matplotlib.figure.Figure at 0x7fcd501b9b70>"
      ]
     },
     "metadata": {},
     "output_type": "display_data"
    }
   ],
   "source": [
    "def plot_newImage(n_row,n_col,image_data):\n",
    "    plt.figure(figsize = (8, 6))\n",
    "    gs1 = gridspec.GridSpec(n_row,n_row)\n",
    "    gs1.update(wspace = 0.01, hspace = 0.02)\n",
    "    \n",
    "    for i in range(len(image_data)):\n",
    "        ax1 = plt.subplot(gs1[i])\n",
    "        plt.axis('on')\n",
    "        ax1.set_xticklabels([])\n",
    "        ax1.set_yticklabels([])\n",
    "        ax1.set_aspect('equal')\n",
    "        \n",
    "        ind_plot = i\n",
    "        plt.imshow(image_data[ind_plot])\n",
    "        plt.axis('off')\n",
    "    plt.show()\n",
    "\n",
    "plot_newImage(5, 5, newdata + 0.5)"
   ]
  },
  {
   "cell_type": "markdown",
   "metadata": {},
   "source": [
    "### Predict the Sign Type for Each Image"
   ]
  },
  {
   "cell_type": "code",
   "execution_count": 33,
   "metadata": {},
   "outputs": [
    {
     "name": "stdout",
     "output_type": "stream",
     "text": [
      "[33 35 40  2  3]\n"
     ]
    },
    {
     "data": {
      "image/png": "[encoded data removed]",
      "text/plain": [
       "<matplotlib.figure.Figure at 0x7fcd37717748>"
      ]
     },
     "metadata": {},
     "output_type": "display_data"
    },
    {
     "data": {
      "image/png": "[encoded data removed]",
      "text/plain": [
       "<matplotlib.figure.Figure at 0x7fcd375bb128>"
      ]
     },
     "metadata": {},
     "output_type": "display_data"
    },
    {
     "data": {
      "image/png": "[encoded data removed]",
      "text/plain": [
       "<matplotlib.figure.Figure at 0x7fcd55e5fa90>"
      ]
     },
     "metadata": {},
     "output_type": "display_data"
    },
    {
     "data": {
      "image/png": "[encoded data removed]",
      "text/plain": [
       "<matplotlib.figure.Figure at 0x7fcd376c1f60>"
      ]
     },
     "metadata": {},
     "output_type": "display_data"
    },
    {
     "data": {
      "image/png": "[encoded data removed]",
      "text/plain": [
       "<matplotlib.figure.Figure at 0x7fcd3763e828>"
      ]
     },
     "metadata": {},
     "output_type": "display_data"
    },
    {
     "data": {
      "image/png": "[encoded data removed]",
      "text/plain": [
       "<matplotlib.figure.Figure at 0x7fcd376caba8>"
      ]
     },
     "metadata": {},
     "output_type": "display_data"
    },
    {
     "data": {
      "image/png": "[encoded data removed]",
      "text/plain": [
       "<matplotlib.figure.Figure at 0x7fcd500dc7f0>"
      ]
     },
     "metadata": {},
     "output_type": "display_data"
    },
    {
     "data": {
      "image/png": "[encoded data removed]",
      "text/plain": [
       "<matplotlib.figure.Figure at 0x7fcd50123588>"
      ]
     },
     "metadata": {},
     "output_type": "display_data"
    },
    {
     "data": {
      "image/png": "[encoded data removed]",
      "text/plain": [
       "<matplotlib.figure.Figure at 0x7fcd55bf2550>"
      ]
     },
     "metadata": {},
     "output_type": "display_data"
    }
   ],
   "source": [
    "### Run the predictions here and use the model to output the prediction for each image.\n",
    "### Make sure to pre-process the images with the same pre-processing pipeline used earlier.\n",
    "### Feel free to use as many code cells as needed.\n",
    "\n",
    "data_pd = pd.read_csv('signnames.csv')\n",
    "\n",
    "feed_dict_new = {x: newdata, keep_prob: 1}\n",
    "top5 = tf.nn.top_k(logits, 5)\n",
    "\n",
    "with tf.Session() as sess:\n",
    "    saver1.restore(sess=sess, save_path='./model_best_batch')\n",
    "    \n",
    "    top5_pred = sess.run(top5, feed_dict = feed_dict_new)\n",
    "    \n",
    "    msg = \" Test_download_acc acc.: {0:>6.1%} \"\n",
    "    print(top5_pred[1][0])\n",
    "    \n",
    "\n",
    "    \n",
    "for i in range(len(newdata)):\n",
    "    plt.figure(figsize = (5, 1.5))\n",
    "    gs = gridspec.GridSpec(1,2,width_ratios=[2, 3])\n",
    "    plt.subplot(gs[0])\n",
    "    plt.imshow(newdata[i]+.5)\n",
    "    plt.axis('off')\n",
    "    plt.subplot(gs[1])\n",
    "    plt.barh(6-np.arange(5),top5_pred[0][i], align='center')\n",
    "    for i_label in range(5):\n",
    "        plt.text(top5_pred[0][i][i_label]+.02, 6-i_label-.25,data_pd['SignName'][top5_pred[1][i][i_label]])\n",
    "    plt.axis('off')\n",
    "    plt.text(0,6.95,i)\n",
    "    plt.show()"
   ]
  },
  {
   "cell_type": "markdown",
   "metadata": {},
   "source": [
    "### Analyze Performance"
   ]
  },
  {
   "cell_type": "code",
   "execution_count": null,
   "metadata": {
    "collapsed": true
   },
   "outputs": [],
   "source": [
    "### Calculate the accuracy for these 5 new images. \n",
    "### For example, if the model predicted 1 out of 5 signs correctly, it's 20% accurate on these new images."
   ]
  },
  {
   "cell_type": "markdown",
   "metadata": {},
   "source": [
    "### Output Top 5 Softmax Probabilities For Each Image Found on the Web"
   ]
  },
  {
   "cell_type": "markdown",
   "metadata": {},
   "source": [
    "For each of the new images, print out the model's softmax probabilities to show the **certainty** of the model's predictions (limit the output to the top 5 probabilities for each image). [`tf.nn.top_k`](https://www.tensorflow.org/versions/r0.12/api_docs/python/nn.html#top_k) could prove helpful here. \n",
    "\n",
    "The example below demonstrates how tf.nn.top_k can be used to find the top k predictions for each image.\n",
    "\n",
    "`tf.nn.top_k` will return the values and indices (class ids) of the top k predictions. So if k=3, for each sign, it'll return the 3 largest probabilities (out of a possible 43) and the correspoding class ids.\n",
    "\n",
    "Take this numpy array as an example. The values in the array represent predictions. The array contains softmax probabilities for five candidate images with six possible classes. `tf.nn.top_k` is used to choose the three classes with the highest probability:\n",
    "\n",
    "```\n",
    "# (5, 6) array\n",
    "a = np.array([[ 0.24879643,  0.07032244,  0.12641572,  0.34763842,  0.07893497,\n",
    "         0.12789202],\n",
    "       [ 0.28086119,  0.27569815,  0.08594638,  0.0178669 ,  0.18063401,\n",
    "         0.15899337],\n",
    "       [ 0.26076848,  0.23664738,  0.08020603,  0.07001922,  0.1134371 ,\n",
    "         0.23892179],\n",
    "       [ 0.11943333,  0.29198961,  0.02605103,  0.26234032,  0.1351348 ,\n",
    "         0.16505091],\n",
    "       [ 0.09561176,  0.34396535,  0.0643941 ,  0.16240774,  0.24206137,\n",
    "         0.09155967]])\n",
    "```\n",
    "\n",
    "Running it through `sess.run(tf.nn.top_k(tf.constant(a), k=3))` produces:\n",
    "\n",
    "```\n",
    "TopKV2(values=array([[ 0.34763842,  0.24879643,  0.12789202],\n",
    "       [ 0.28086119,  0.27569815,  0.18063401],\n",
    "       [ 0.26076848,  0.23892179,  0.23664738],\n",
    "       [ 0.29198961,  0.26234032,  0.16505091],\n",
    "       [ 0.34396535,  0.24206137,  0.16240774]]), indices=array([[3, 0, 5],\n",
    "       [0, 1, 4],\n",
    "       [0, 5, 1],\n",
    "       [1, 3, 5],\n",
    "       [1, 4, 3]], dtype=int32))\n",
    "```\n",
    "\n",
    "Looking just at the first row we get `[ 0.34763842,  0.24879643,  0.12789202]`, you can confirm these are the 3 largest probabilities in `a`. You'll also notice `[3, 0, 5]` are the corresponding indices."
   ]
  },
  {
   "cell_type": "code",
   "execution_count": null,
   "metadata": {
    "collapsed": true
   },
   "outputs": [],
   "source": [
    "### Print out the top five softmax probabilities for the predictions on the German traffic sign images found on the web. \n",
    "### Feel free to use as many code cells as needed."
   ]
  },
  {
   "cell_type": "markdown",
   "metadata": {},
   "source": [
    "### Project Writeup\n",
    "\n",
    "Once you have completed the code implementation, document your results in a project writeup using this [template](https://github.com/udacity/CarND-Traffic-Sign-Classifier-Project/blob/master/writeup_template.md) as a guide. The writeup can be in a markdown or pdf file. "
   ]
  },
  {
   "cell_type": "markdown",
   "metadata": {},
   "source": [
    "> **Note**: Once you have completed all of the code implementations and successfully answered each question above, you may finalize your work by exporting the iPython Notebook as an HTML document. You can do this by using the menu above and navigating to  \\n\",\n",
    "    \"**File -> Download as -> HTML (.html)**. Include the finished document along with this notebook as your submission."
   ]
  },
  {
   "cell_type": "markdown",
   "metadata": {},
   "source": [
    "---\n",
    "\n",
    "## Step 4 (Optional): Visualize the Neural Network's State with Test Images\n",
    "\n",
    " This Section is not required to complete but acts as an additional excersise for understaning the output of a neural network's weights. While neural networks can be a great learning device they are often referred to as a black box. We can understand what the weights of a neural network look like better by plotting their feature maps. After successfully training your neural network you can see what it's feature maps look like by plotting the output of the network's weight layers in response to a test stimuli image. From these plotted feature maps, it's possible to see what characteristics of an image the network finds interesting. For a sign, maybe the inner network feature maps react with high activation to the sign's boundary outline or to the contrast in the sign's painted symbol.\n",
    "\n",
    " Provided for you below is the function code that allows you to get the visualization output of any tensorflow weight layer you want. The inputs to the function should be a stimuli image, one used during training or a new one you provided, and then the tensorflow variable name that represents the layer's state during the training process, for instance if you wanted to see what the [LeNet lab's](https://classroom.udacity.com/nanodegrees/nd013/parts/fbf77062-5703-404e-b60c-95b78b2f3f9e/modules/6df7ae49-c61c-4bb2-a23e-6527e69209ec/lessons/601ae704-1035-4287-8b11-e2c2716217ad/concepts/d4aca031-508f-4e0b-b493-e7b706120f81) feature maps looked like for it's second convolutional layer you could enter conv2 as the tf_activation variable.\n",
    "\n",
    "For an example of what feature map outputs look like, check out NVIDIA's results in their paper [End-to-End Deep Learning for Self-Driving Cars](https://devblogs.nvidia.com/parallelforall/deep-learning-self-driving-cars/) in the section Visualization of internal CNN State. NVIDIA was able to show that their network's inner weights had high activations to road boundary lines by comparing feature maps from an image with a clear path to one without. Try experimenting with a similar test to show that your trained network's weights are looking for interesting features, whether it's looking at differences in feature maps from images with or without a sign, or even what feature maps look like in a trained network vs a completely untrained one on the same sign image.\n",
    "\n",
    "<figure>\n",
    " <img src=\"visualize_cnn.png\" width=\"380\" alt=\"Combined Image\" />\n",
    " <figcaption>\n",
    " <p></p> \n",
    " <p style=\"text-align: center;\"> Your output should look something like this (above)</p> \n",
    " </figcaption>\n",
    "</figure>\n",
    " <p></p> \n"
   ]
  },
  {
   "cell_type": "code",
   "execution_count": null,
   "metadata": {
    "collapsed": true
   },
   "outputs": [],
   "source": [
    "### Visualize your network's feature maps here.\n",
    "### Feel free to use as many code cells as needed.\n",
    "\n",
    "# image_input: the test image being fed into the network to produce the feature maps\n",
    "# tf_activation: should be a tf variable name used during your training procedure that represents the calculated state of a specific weight layer\n",
    "# activation_min/max: can be used to view the activation contrast in more detail, by default matplot sets min and max to the actual min and max values of the output\n",
    "# plt_num: used to plot out multiple different weight feature map sets on the same block, just extend the plt number for each new feature map entry\n",
    "\n",
    "def outputFeatureMap(image_input, tf_activation, activation_min=-1, activation_max=-1 ,plt_num=1):\n",
    "    # Here make sure to preprocess your image_input in a way your network expects\n",
    "    # with size, normalization, ect if needed\n",
    "    # image_input =\n",
    "    # Note: x should be the same name as your network's tensorflow data placeholder variable\n",
    "    # If you get an error tf_activation is not defined it may be having trouble accessing the variable from inside a function\n",
    "    activation = tf_activation.eval(session=sess,feed_dict={x : image_input})\n",
    "    featuremaps = activation.shape[3]\n",
    "    plt.figure(plt_num, figsize=(15,15))\n",
    "    for featuremap in range(featuremaps):\n",
    "        plt.subplot(6,8, featuremap+1) # sets the number of feature maps to show on each row and column\n",
    "        plt.title('FeatureMap ' + str(featuremap)) # displays the feature map number\n",
    "        if activation_min != -1 & activation_max != -1:\n",
    "            plt.imshow(activation[0,:,:, featuremap], interpolation=\"nearest\", vmin =activation_min, vmax=activation_max, cmap=\"gray\")\n",
    "        elif activation_max != -1:\n",
    "            plt.imshow(activation[0,:,:, featuremap], interpolation=\"nearest\", vmax=activation_max, cmap=\"gray\")\n",
    "        elif activation_min !=-1:\n",
    "            plt.imshow(activation[0,:,:, featuremap], interpolation=\"nearest\", vmin=activation_min, cmap=\"gray\")\n",
    "        else:\n",
    "            plt.imshow(activation[0,:,:, featuremap], interpolation=\"nearest\", cmap=\"gray\")"
   ]
  }
 ],
 "metadata": {
  "anaconda-cloud": {},
  "kernelspec": {
   "display_name": "Python 3",
   "language": "python",
   "name": "python3"
  },
  "language_info": {
   "codemirror_mode": {
    "name": "ipython",
    "version": 3
   },
   "file_extension": ".py",
   "mimetype": "text/x-python",
   "name": "python",
   "nbconvert_exporter": "python",
   "pygments_lexer": "ipython3",
   "version": "3.5.2"
  },
  "widgets": {
   "state": {},
   "version": "1.1.2"
  }
 },
 "nbformat": 4,
 "nbformat_minor": 1
}
